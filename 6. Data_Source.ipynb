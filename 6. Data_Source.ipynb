{
 "cells": [
  {
   "cell_type": "markdown",
   "metadata": {},
   "source": [
    "# Data Source\n",
    "\n",
    "** 此系列的文件為Udemy的python金融分析課程系列筆記(https://www.udemy.com/python-for-finance-and-trading-algorithms) **\n",
    "\n",
    "** 要做數據分析，資料的來源非常重要。本單元介紹兩個簡單的數據取得方法 **\n"
   ]
  },
  {
   "cell_type": "markdown",
   "metadata": {},
   "source": [
    "第一種方式是使用pandas的datareader方法"
   ]
  },
  {
   "cell_type": "code",
   "execution_count": 1,
   "metadata": {
    "collapsed": true
   },
   "outputs": [],
   "source": [
    "import pandas_datareader.data as web\n",
    "import datetime\n",
    "\n",
    "start = datetime.datetime(2015, 1, 1)\n",
    "\n",
    "end = datetime.datetime(2017, 1, 1)\n",
    "\n",
    "facebook = web.DataReader(\"FB\", 'google', start, end)"
   ]
  },
  {
   "cell_type": "code",
   "execution_count": 2,
   "metadata": {},
   "outputs": [
    {
     "data": {
      "text/html": [
       "<div>\n",
       "<table border=\"1\" class=\"dataframe\">\n",
       "  <thead>\n",
       "    <tr style=\"text-align: right;\">\n",
       "      <th></th>\n",
       "      <th>Open</th>\n",
       "      <th>High</th>\n",
       "      <th>Low</th>\n",
       "      <th>Close</th>\n",
       "      <th>Volume</th>\n",
       "    </tr>\n",
       "    <tr>\n",
       "      <th>Date</th>\n",
       "      <th></th>\n",
       "      <th></th>\n",
       "      <th></th>\n",
       "      <th></th>\n",
       "      <th></th>\n",
       "    </tr>\n",
       "  </thead>\n",
       "  <tbody>\n",
       "    <tr>\n",
       "      <th>2015-01-02</th>\n",
       "      <td>78.58</td>\n",
       "      <td>78.93</td>\n",
       "      <td>77.70</td>\n",
       "      <td>78.45</td>\n",
       "      <td>18177475</td>\n",
       "    </tr>\n",
       "    <tr>\n",
       "      <th>2015-01-05</th>\n",
       "      <td>77.98</td>\n",
       "      <td>79.25</td>\n",
       "      <td>76.86</td>\n",
       "      <td>77.19</td>\n",
       "      <td>26452191</td>\n",
       "    </tr>\n",
       "    <tr>\n",
       "      <th>2015-01-06</th>\n",
       "      <td>77.23</td>\n",
       "      <td>77.59</td>\n",
       "      <td>75.36</td>\n",
       "      <td>76.15</td>\n",
       "      <td>27399288</td>\n",
       "    </tr>\n",
       "    <tr>\n",
       "      <th>2015-01-07</th>\n",
       "      <td>76.76</td>\n",
       "      <td>77.36</td>\n",
       "      <td>75.82</td>\n",
       "      <td>76.15</td>\n",
       "      <td>22045333</td>\n",
       "    </tr>\n",
       "    <tr>\n",
       "      <th>2015-01-08</th>\n",
       "      <td>76.74</td>\n",
       "      <td>78.23</td>\n",
       "      <td>76.08</td>\n",
       "      <td>78.18</td>\n",
       "      <td>23960953</td>\n",
       "    </tr>\n",
       "  </tbody>\n",
       "</table>\n",
       "</div>"
      ],
      "text/plain": [
       "             Open   High    Low  Close    Volume\n",
       "Date                                            \n",
       "2015-01-02  78.58  78.93  77.70  78.45  18177475\n",
       "2015-01-05  77.98  79.25  76.86  77.19  26452191\n",
       "2015-01-06  77.23  77.59  75.36  76.15  27399288\n",
       "2015-01-07  76.76  77.36  75.82  76.15  22045333\n",
       "2015-01-08  76.74  78.23  76.08  78.18  23960953"
      ]
     },
     "execution_count": 2,
     "metadata": {},
     "output_type": "execute_result"
    }
   ],
   "source": [
    "facebook.head()"
   ]
  },
  {
   "cell_type": "code",
   "execution_count": 3,
   "metadata": {
    "collapsed": true
   },
   "outputs": [],
   "source": [
    "from pandas_datareader.data import Options\n",
    "\n",
    "fb_options = Options('FB', 'google')"
   ]
  },
  {
   "cell_type": "code",
   "execution_count": 4,
   "metadata": {
    "collapsed": true
   },
   "outputs": [],
   "source": [
    "data = fb_options.get_options_data(expiry=fb_options.expiry_dates[0])"
   ]
  },
  {
   "cell_type": "code",
   "execution_count": 5,
   "metadata": {},
   "outputs": [
    {
     "data": {
      "text/html": [
       "<div>\n",
       "<table border=\"1\" class=\"dataframe\">\n",
       "  <thead>\n",
       "    <tr style=\"text-align: right;\">\n",
       "      <th></th>\n",
       "      <th></th>\n",
       "      <th></th>\n",
       "      <th></th>\n",
       "      <th>Last</th>\n",
       "      <th>Bid</th>\n",
       "      <th>Ask</th>\n",
       "      <th>Chg</th>\n",
       "      <th>PctChg</th>\n",
       "      <th>Vol</th>\n",
       "      <th>Open_Int</th>\n",
       "      <th>Root</th>\n",
       "      <th>Underlying_Price</th>\n",
       "      <th>Quote_Time</th>\n",
       "    </tr>\n",
       "    <tr>\n",
       "      <th>Strike</th>\n",
       "      <th>Expiry</th>\n",
       "      <th>Type</th>\n",
       "      <th>Symbol</th>\n",
       "      <th></th>\n",
       "      <th></th>\n",
       "      <th></th>\n",
       "      <th></th>\n",
       "      <th></th>\n",
       "      <th></th>\n",
       "      <th></th>\n",
       "      <th></th>\n",
       "      <th></th>\n",
       "      <th></th>\n",
       "    </tr>\n",
       "  </thead>\n",
       "  <tbody>\n",
       "    <tr>\n",
       "      <th rowspan=\"2\" valign=\"top\">5.0</th>\n",
       "      <th rowspan=\"2\" valign=\"top\">2018-01-19</th>\n",
       "      <th>call</th>\n",
       "      <th>FB180119C00005000</th>\n",
       "      <td>165.90</td>\n",
       "      <td>167.75</td>\n",
       "      <td>168.20</td>\n",
       "      <td>0.0</td>\n",
       "      <td>0.0</td>\n",
       "      <td>NaN</td>\n",
       "      <td>9359.0</td>\n",
       "      <td>FB</td>\n",
       "      <td>172.96001</td>\n",
       "      <td>2017-09-13 15:02:06.956345</td>\n",
       "    </tr>\n",
       "    <tr>\n",
       "      <th>put</th>\n",
       "      <th>FB180119P00005000</th>\n",
       "      <td>0.01</td>\n",
       "      <td>NaN</td>\n",
       "      <td>0.03</td>\n",
       "      <td>0.0</td>\n",
       "      <td>0.0</td>\n",
       "      <td>NaN</td>\n",
       "      <td>3053.0</td>\n",
       "      <td>FB</td>\n",
       "      <td>172.96001</td>\n",
       "      <td>2017-09-13 15:02:06.956345</td>\n",
       "    </tr>\n",
       "    <tr>\n",
       "      <th rowspan=\"2\" valign=\"top\">10.0</th>\n",
       "      <th rowspan=\"2\" valign=\"top\">2018-01-19</th>\n",
       "      <th>call</th>\n",
       "      <th>FB180119C00010000</th>\n",
       "      <td>161.16</td>\n",
       "      <td>162.85</td>\n",
       "      <td>163.25</td>\n",
       "      <td>0.0</td>\n",
       "      <td>0.0</td>\n",
       "      <td>NaN</td>\n",
       "      <td>2859.0</td>\n",
       "      <td>FB</td>\n",
       "      <td>172.96001</td>\n",
       "      <td>2017-09-13 15:02:06.956345</td>\n",
       "    </tr>\n",
       "    <tr>\n",
       "      <th>put</th>\n",
       "      <th>FB180119P00010000</th>\n",
       "      <td>0.01</td>\n",
       "      <td>NaN</td>\n",
       "      <td>0.02</td>\n",
       "      <td>0.0</td>\n",
       "      <td>0.0</td>\n",
       "      <td>NaN</td>\n",
       "      <td>2056.0</td>\n",
       "      <td>FB</td>\n",
       "      <td>172.96001</td>\n",
       "      <td>2017-09-13 15:02:06.956345</td>\n",
       "    </tr>\n",
       "    <tr>\n",
       "      <th>15.0</th>\n",
       "      <th>2018-01-19</th>\n",
       "      <th>call</th>\n",
       "      <th>FB180119C00015000</th>\n",
       "      <td>158.00</td>\n",
       "      <td>157.85</td>\n",
       "      <td>158.30</td>\n",
       "      <td>0.0</td>\n",
       "      <td>0.0</td>\n",
       "      <td>NaN</td>\n",
       "      <td>235.0</td>\n",
       "      <td>FB</td>\n",
       "      <td>172.96001</td>\n",
       "      <td>2017-09-13 15:02:06.956345</td>\n",
       "    </tr>\n",
       "  </tbody>\n",
       "</table>\n",
       "</div>"
      ],
      "text/plain": [
       "                                            Last     Bid     Ask  Chg  PctChg  \\\n",
       "Strike Expiry     Type Symbol                                                   \n",
       "5.0    2018-01-19 call FB180119C00005000  165.90  167.75  168.20  0.0     0.0   \n",
       "                  put  FB180119P00005000    0.01     NaN    0.03  0.0     0.0   \n",
       "10.0   2018-01-19 call FB180119C00010000  161.16  162.85  163.25  0.0     0.0   \n",
       "                  put  FB180119P00010000    0.01     NaN    0.02  0.0     0.0   \n",
       "15.0   2018-01-19 call FB180119C00015000  158.00  157.85  158.30  0.0     0.0   \n",
       "\n",
       "                                          Vol  Open_Int Root  \\\n",
       "Strike Expiry     Type Symbol                                  \n",
       "5.0    2018-01-19 call FB180119C00005000  NaN    9359.0   FB   \n",
       "                  put  FB180119P00005000  NaN    3053.0   FB   \n",
       "10.0   2018-01-19 call FB180119C00010000  NaN    2859.0   FB   \n",
       "                  put  FB180119P00010000  NaN    2056.0   FB   \n",
       "15.0   2018-01-19 call FB180119C00015000  NaN     235.0   FB   \n",
       "\n",
       "                                          Underlying_Price  \\\n",
       "Strike Expiry     Type Symbol                                \n",
       "5.0    2018-01-19 call FB180119C00005000         172.96001   \n",
       "                  put  FB180119P00005000         172.96001   \n",
       "10.0   2018-01-19 call FB180119C00010000         172.96001   \n",
       "                  put  FB180119P00010000         172.96001   \n",
       "15.0   2018-01-19 call FB180119C00015000         172.96001   \n",
       "\n",
       "                                                         Quote_Time  \n",
       "Strike Expiry     Type Symbol                                        \n",
       "5.0    2018-01-19 call FB180119C00005000 2017-09-13 15:02:06.956345  \n",
       "                  put  FB180119P00005000 2017-09-13 15:02:06.956345  \n",
       "10.0   2018-01-19 call FB180119C00010000 2017-09-13 15:02:06.956345  \n",
       "                  put  FB180119P00010000 2017-09-13 15:02:06.956345  \n",
       "15.0   2018-01-19 call FB180119C00015000 2017-09-13 15:02:06.956345  "
      ]
     },
     "execution_count": 5,
     "metadata": {},
     "output_type": "execute_result"
    }
   ],
   "source": [
    "data.head()"
   ]
  },
  {
   "cell_type": "code",
   "execution_count": 7,
   "metadata": {
    "collapsed": true
   },
   "outputs": [],
   "source": [
    "start = datetime.datetime(2010, 1, 1)\n",
    "\n",
    "end = datetime.datetime(2017, 1, 1)\n",
    "\n",
    "gdp = web.DataReader(\"GDP\", \"fred\", start, end)"
   ]
  },
  {
   "cell_type": "code",
   "execution_count": 8,
   "metadata": {},
   "outputs": [
    {
     "data": {
      "text/html": [
       "<div>\n",
       "<table border=\"1\" class=\"dataframe\">\n",
       "  <thead>\n",
       "    <tr style=\"text-align: right;\">\n",
       "      <th></th>\n",
       "      <th>GDP</th>\n",
       "    </tr>\n",
       "    <tr>\n",
       "      <th>DATE</th>\n",
       "      <th></th>\n",
       "    </tr>\n",
       "  </thead>\n",
       "  <tbody>\n",
       "    <tr>\n",
       "      <th>2010-01-01</th>\n",
       "      <td>14681.1</td>\n",
       "    </tr>\n",
       "    <tr>\n",
       "      <th>2010-04-01</th>\n",
       "      <td>14888.6</td>\n",
       "    </tr>\n",
       "    <tr>\n",
       "      <th>2010-07-01</th>\n",
       "      <td>15057.7</td>\n",
       "    </tr>\n",
       "    <tr>\n",
       "      <th>2010-10-01</th>\n",
       "      <td>15230.2</td>\n",
       "    </tr>\n",
       "    <tr>\n",
       "      <th>2011-01-01</th>\n",
       "      <td>15238.4</td>\n",
       "    </tr>\n",
       "  </tbody>\n",
       "</table>\n",
       "</div>"
      ],
      "text/plain": [
       "                GDP\n",
       "DATE               \n",
       "2010-01-01  14681.1\n",
       "2010-04-01  14888.6\n",
       "2010-07-01  15057.7\n",
       "2010-10-01  15230.2\n",
       "2011-01-01  15238.4"
      ]
     },
     "execution_count": 8,
     "metadata": {},
     "output_type": "execute_result"
    }
   ],
   "source": [
    "gdp.head()"
   ]
  },
  {
   "cell_type": "markdown",
   "metadata": {},
   "source": [
    "另外一種方式是使用Quandl套件"
   ]
  },
  {
   "cell_type": "code",
   "execution_count": 9,
   "metadata": {
    "collapsed": true
   },
   "outputs": [],
   "source": [
    "import numpy as np\n",
    "import pandas as pd\n",
    "import matplotlib.pyplot as plt\n",
    "%matplotlib inline"
   ]
  },
  {
   "cell_type": "code",
   "execution_count": 14,
   "metadata": {},
   "outputs": [],
   "source": [
    "import quandl"
   ]
  },
  {
   "cell_type": "markdown",
   "metadata": {},
   "source": [
    "guandl.get方法可以從特定的資料庫取得特定資料，例如: EIA/PET_RWTC_D 即為從EIA資料庫取得油價\n",
    "\n",
    "相關的編碼表可以從quandl網站取得：\n",
    "\n",
    "https://www.quandl.com/"
   ]
  },
  {
   "cell_type": "code",
   "execution_count": 15,
   "metadata": {
    "collapsed": true
   },
   "outputs": [],
   "source": [
    "mydata = quandl.get(\"EIA/PET_RWTC_D\")"
   ]
  },
  {
   "cell_type": "code",
   "execution_count": 16,
   "metadata": {},
   "outputs": [
    {
     "data": {
      "text/html": [
       "<div>\n",
       "<table border=\"1\" class=\"dataframe\">\n",
       "  <thead>\n",
       "    <tr style=\"text-align: right;\">\n",
       "      <th></th>\n",
       "      <th>Value</th>\n",
       "    </tr>\n",
       "    <tr>\n",
       "      <th>Date</th>\n",
       "      <th></th>\n",
       "    </tr>\n",
       "  </thead>\n",
       "  <tbody>\n",
       "    <tr>\n",
       "      <th>1986-01-02</th>\n",
       "      <td>25.56</td>\n",
       "    </tr>\n",
       "    <tr>\n",
       "      <th>1986-01-03</th>\n",
       "      <td>26.00</td>\n",
       "    </tr>\n",
       "    <tr>\n",
       "      <th>1986-01-06</th>\n",
       "      <td>26.53</td>\n",
       "    </tr>\n",
       "    <tr>\n",
       "      <th>1986-01-07</th>\n",
       "      <td>25.85</td>\n",
       "    </tr>\n",
       "    <tr>\n",
       "      <th>1986-01-08</th>\n",
       "      <td>25.87</td>\n",
       "    </tr>\n",
       "  </tbody>\n",
       "</table>\n",
       "</div>"
      ],
      "text/plain": [
       "            Value\n",
       "Date             \n",
       "1986-01-02  25.56\n",
       "1986-01-03  26.00\n",
       "1986-01-06  26.53\n",
       "1986-01-07  25.85\n",
       "1986-01-08  25.87"
      ]
     },
     "execution_count": 16,
     "metadata": {},
     "output_type": "execute_result"
    }
   ],
   "source": [
    "mydata.head()"
   ]
  },
  {
   "cell_type": "code",
   "execution_count": 17,
   "metadata": {},
   "outputs": [
    {
     "data": {
      "text/plain": [
       "<matplotlib.axes._subplots.AxesSubplot at 0x111094828>"
      ]
     },
     "execution_count": 17,
     "metadata": {},
     "output_type": "execute_result"
    },
    {
     "data": {
      "image/png": "[encoded data removed]",
      "text/plain": [
       "<matplotlib.figure.Figure at 0x1110940b8>"
      ]
     },
     "metadata": {},
     "output_type": "display_data"
    }
   ],
   "source": [
    "mydata.plot(figsize=(12,6))"
   ]
  },
  {
   "cell_type": "markdown",
   "metadata": {},
   "source": [
    "也可以設定取得的data格式是numpy"
   ]
  },
  {
   "cell_type": "code",
   "execution_count": 20,
   "metadata": {},
   "outputs": [
    {
     "data": {
      "text/plain": [
       "rec.array([(datetime.datetime(1986, 1, 2, 0, 0),  25.56),\n",
       " (datetime.datetime(1986, 1, 3, 0, 0),  26.  ),\n",
       " (datetime.datetime(1986, 1, 6, 0, 0),  26.53), ...,\n",
       " (datetime.datetime(2017, 8, 31, 0, 0),  47.26),\n",
       " (datetime.datetime(2017, 9, 1, 0, 0),  47.32),\n",
       " (datetime.datetime(2017, 9, 5, 0, 0),  48.63)], \n",
       "          dtype=[('Date', 'O'), ('Value', '<f8')])"
      ]
     },
     "execution_count": 20,
     "metadata": {},
     "output_type": "execute_result"
    }
   ],
   "source": [
    "mydata = quandl.get(\"EIA/PET_RWTC_D\", returns=\"numpy\")\n",
    "mydata"
   ]
  },
  {
   "cell_type": "code",
   "execution_count": 21,
   "metadata": {},
   "outputs": [
    {
     "data": {
      "text/html": [
       "<div>\n",
       "<table border=\"1\" class=\"dataframe\">\n",
       "  <thead>\n",
       "    <tr style=\"text-align: right;\">\n",
       "      <th></th>\n",
       "      <th>Value</th>\n",
       "    </tr>\n",
       "    <tr>\n",
       "      <th>Date</th>\n",
       "      <th></th>\n",
       "    </tr>\n",
       "  </thead>\n",
       "  <tbody>\n",
       "    <tr>\n",
       "      <th>2002-01-01</th>\n",
       "      <td>10834.4</td>\n",
       "    </tr>\n",
       "    <tr>\n",
       "      <th>2002-04-01</th>\n",
       "      <td>10934.8</td>\n",
       "    </tr>\n",
       "    <tr>\n",
       "      <th>2002-07-01</th>\n",
       "      <td>11037.1</td>\n",
       "    </tr>\n",
       "    <tr>\n",
       "      <th>2002-10-01</th>\n",
       "      <td>11103.8</td>\n",
       "    </tr>\n",
       "    <tr>\n",
       "      <th>2003-01-01</th>\n",
       "      <td>11230.1</td>\n",
       "    </tr>\n",
       "  </tbody>\n",
       "</table>\n",
       "</div>"
      ],
      "text/plain": [
       "              Value\n",
       "Date               \n",
       "2002-01-01  10834.4\n",
       "2002-04-01  10934.8\n",
       "2002-07-01  11037.1\n",
       "2002-10-01  11103.8\n",
       "2003-01-01  11230.1"
      ]
     },
     "execution_count": 21,
     "metadata": {},
     "output_type": "execute_result"
    }
   ],
   "source": [
    "mydata = quandl.get(\"FRED/GDP\", start_date=\"2001-12-31\", end_date=\"2005-12-31\")\n",
    "mydata.head()"
   ]
  },
  {
   "cell_type": "code",
   "execution_count": 22,
   "metadata": {
    "collapsed": true
   },
   "outputs": [],
   "source": [
    "mydata = quandl.get([\"NSE/OIL.1\", \"WIKI/AAPL.4\"])"
   ]
  },
  {
   "cell_type": "code",
   "execution_count": 25,
   "metadata": {},
   "outputs": [
    {
     "data": {
      "text/html": [
       "<div>\n",
       "<table border=\"1\" class=\"dataframe\">\n",
       "  <thead>\n",
       "    <tr style=\"text-align: right;\">\n",
       "      <th></th>\n",
       "      <th>NSE/OIL - Open</th>\n",
       "      <th>WIKI/AAPL - Close</th>\n",
       "    </tr>\n",
       "    <tr>\n",
       "      <th>Date</th>\n",
       "      <th></th>\n",
       "      <th></th>\n",
       "    </tr>\n",
       "  </thead>\n",
       "  <tbody>\n",
       "    <tr>\n",
       "      <th>1980-12-12</th>\n",
       "      <td>NaN</td>\n",
       "      <td>28.75</td>\n",
       "    </tr>\n",
       "    <tr>\n",
       "      <th>1980-12-15</th>\n",
       "      <td>NaN</td>\n",
       "      <td>27.25</td>\n",
       "    </tr>\n",
       "    <tr>\n",
       "      <th>1980-12-16</th>\n",
       "      <td>NaN</td>\n",
       "      <td>25.25</td>\n",
       "    </tr>\n",
       "    <tr>\n",
       "      <th>1980-12-17</th>\n",
       "      <td>NaN</td>\n",
       "      <td>25.87</td>\n",
       "    </tr>\n",
       "    <tr>\n",
       "      <th>1980-12-18</th>\n",
       "      <td>NaN</td>\n",
       "      <td>26.63</td>\n",
       "    </tr>\n",
       "  </tbody>\n",
       "</table>\n",
       "</div>"
      ],
      "text/plain": [
       "            NSE/OIL - Open  WIKI/AAPL - Close\n",
       "Date                                         \n",
       "1980-12-12             NaN              28.75\n",
       "1980-12-15             NaN              27.25\n",
       "1980-12-16             NaN              25.25\n",
       "1980-12-17             NaN              25.87\n",
       "1980-12-18             NaN              26.63"
      ]
     },
     "execution_count": 25,
     "metadata": {},
     "output_type": "execute_result"
    }
   ],
   "source": [
    "mydata.head()"
   ]
  },
  {
   "cell_type": "code",
   "execution_count": 26,
   "metadata": {},
   "outputs": [
    {
     "data": {
      "text/html": [
       "<div>\n",
       "<table border=\"1\" class=\"dataframe\">\n",
       "  <thead>\n",
       "    <tr style=\"text-align: right;\">\n",
       "      <th></th>\n",
       "      <th>NSE/OIL - Open</th>\n",
       "      <th>WIKI/AAPL - Close</th>\n",
       "    </tr>\n",
       "    <tr>\n",
       "      <th>Date</th>\n",
       "      <th></th>\n",
       "      <th></th>\n",
       "    </tr>\n",
       "  </thead>\n",
       "  <tbody>\n",
       "    <tr>\n",
       "      <th>2017-09-06</th>\n",
       "      <td>307.0</td>\n",
       "      <td>161.91</td>\n",
       "    </tr>\n",
       "    <tr>\n",
       "      <th>2017-09-07</th>\n",
       "      <td>311.9</td>\n",
       "      <td>161.26</td>\n",
       "    </tr>\n",
       "    <tr>\n",
       "      <th>2017-09-08</th>\n",
       "      <td>307.5</td>\n",
       "      <td>158.63</td>\n",
       "    </tr>\n",
       "    <tr>\n",
       "      <th>2017-09-11</th>\n",
       "      <td>312.2</td>\n",
       "      <td>161.50</td>\n",
       "    </tr>\n",
       "    <tr>\n",
       "      <th>2017-09-12</th>\n",
       "      <td>334.0</td>\n",
       "      <td>160.82</td>\n",
       "    </tr>\n",
       "  </tbody>\n",
       "</table>\n",
       "</div>"
      ],
      "text/plain": [
       "            NSE/OIL - Open  WIKI/AAPL - Close\n",
       "Date                                         \n",
       "2017-09-06           307.0             161.91\n",
       "2017-09-07           311.9             161.26\n",
       "2017-09-08           307.5             158.63\n",
       "2017-09-11           312.2             161.50\n",
       "2017-09-12           334.0             160.82"
      ]
     },
     "execution_count": 26,
     "metadata": {},
     "output_type": "execute_result"
    }
   ],
   "source": [
    "mydata.tail()"
   ]
  },
  {
   "cell_type": "code",
   "execution_count": 29,
   "metadata": {
    "collapsed": true
   },
   "outputs": [],
   "source": [
    "quandl.ApiConfig.api_key = \"YOUR_KEY_HERE\"\n",
    "mydata = quandl.get(\"FRED/GDP\")"
   ]
  },
  {
   "cell_type": "code",
   "execution_count": 31,
   "metadata": {},
   "outputs": [],
   "source": [
    "mydata = quandl.get('WIKI/FB',start_date='2015-01-01',end_date='2017-01-01')"
   ]
  },
  {
   "cell_type": "code",
   "execution_count": 32,
   "metadata": {},
   "outputs": [
    {
     "data": {
      "text/html": [
       "<div>\n",
       "<table border=\"1\" class=\"dataframe\">\n",
       "  <thead>\n",
       "    <tr style=\"text-align: right;\">\n",
       "      <th></th>\n",
       "      <th>Open</th>\n",
       "      <th>High</th>\n",
       "      <th>Low</th>\n",
       "      <th>Close</th>\n",
       "      <th>Volume</th>\n",
       "      <th>Ex-Dividend</th>\n",
       "      <th>Split Ratio</th>\n",
       "      <th>Adj. Open</th>\n",
       "      <th>Adj. High</th>\n",
       "      <th>Adj. Low</th>\n",
       "      <th>Adj. Close</th>\n",
       "      <th>Adj. Volume</th>\n",
       "    </tr>\n",
       "    <tr>\n",
       "      <th>Date</th>\n",
       "      <th></th>\n",
       "      <th></th>\n",
       "      <th></th>\n",
       "      <th></th>\n",
       "      <th></th>\n",
       "      <th></th>\n",
       "      <th></th>\n",
       "      <th></th>\n",
       "      <th></th>\n",
       "      <th></th>\n",
       "      <th></th>\n",
       "      <th></th>\n",
       "    </tr>\n",
       "  </thead>\n",
       "  <tbody>\n",
       "    <tr>\n",
       "      <th>2015-01-02</th>\n",
       "      <td>78.58</td>\n",
       "      <td>78.9300</td>\n",
       "      <td>77.700</td>\n",
       "      <td>78.450</td>\n",
       "      <td>18177475.0</td>\n",
       "      <td>0.0</td>\n",
       "      <td>1.0</td>\n",
       "      <td>78.58</td>\n",
       "      <td>78.9300</td>\n",
       "      <td>77.700</td>\n",
       "      <td>78.450</td>\n",
       "      <td>18177475.0</td>\n",
       "    </tr>\n",
       "    <tr>\n",
       "      <th>2015-01-05</th>\n",
       "      <td>77.98</td>\n",
       "      <td>79.2455</td>\n",
       "      <td>76.860</td>\n",
       "      <td>77.190</td>\n",
       "      <td>26452191.0</td>\n",
       "      <td>0.0</td>\n",
       "      <td>1.0</td>\n",
       "      <td>77.98</td>\n",
       "      <td>79.2455</td>\n",
       "      <td>76.860</td>\n",
       "      <td>77.190</td>\n",
       "      <td>26452191.0</td>\n",
       "    </tr>\n",
       "    <tr>\n",
       "      <th>2015-01-06</th>\n",
       "      <td>77.23</td>\n",
       "      <td>77.5900</td>\n",
       "      <td>75.365</td>\n",
       "      <td>76.150</td>\n",
       "      <td>27399288.0</td>\n",
       "      <td>0.0</td>\n",
       "      <td>1.0</td>\n",
       "      <td>77.23</td>\n",
       "      <td>77.5900</td>\n",
       "      <td>75.365</td>\n",
       "      <td>76.150</td>\n",
       "      <td>27399288.0</td>\n",
       "    </tr>\n",
       "    <tr>\n",
       "      <th>2015-01-07</th>\n",
       "      <td>76.76</td>\n",
       "      <td>77.3600</td>\n",
       "      <td>75.820</td>\n",
       "      <td>76.150</td>\n",
       "      <td>22045333.0</td>\n",
       "      <td>0.0</td>\n",
       "      <td>1.0</td>\n",
       "      <td>76.76</td>\n",
       "      <td>77.3600</td>\n",
       "      <td>75.820</td>\n",
       "      <td>76.150</td>\n",
       "      <td>22045333.0</td>\n",
       "    </tr>\n",
       "    <tr>\n",
       "      <th>2015-01-08</th>\n",
       "      <td>76.74</td>\n",
       "      <td>78.2300</td>\n",
       "      <td>76.080</td>\n",
       "      <td>78.175</td>\n",
       "      <td>23960953.0</td>\n",
       "      <td>0.0</td>\n",
       "      <td>1.0</td>\n",
       "      <td>76.74</td>\n",
       "      <td>78.2300</td>\n",
       "      <td>76.080</td>\n",
       "      <td>78.175</td>\n",
       "      <td>23960953.0</td>\n",
       "    </tr>\n",
       "  </tbody>\n",
       "</table>\n",
       "</div>"
      ],
      "text/plain": [
       "             Open     High     Low   Close      Volume  Ex-Dividend  \\\n",
       "Date                                                                  \n",
       "2015-01-02  78.58  78.9300  77.700  78.450  18177475.0          0.0   \n",
       "2015-01-05  77.98  79.2455  76.860  77.190  26452191.0          0.0   \n",
       "2015-01-06  77.23  77.5900  75.365  76.150  27399288.0          0.0   \n",
       "2015-01-07  76.76  77.3600  75.820  76.150  22045333.0          0.0   \n",
       "2015-01-08  76.74  78.2300  76.080  78.175  23960953.0          0.0   \n",
       "\n",
       "            Split Ratio  Adj. Open  Adj. High  Adj. Low  Adj. Close  \\\n",
       "Date                                                                  \n",
       "2015-01-02          1.0      78.58    78.9300    77.700      78.450   \n",
       "2015-01-05          1.0      77.98    79.2455    76.860      77.190   \n",
       "2015-01-06          1.0      77.23    77.5900    75.365      76.150   \n",
       "2015-01-07          1.0      76.76    77.3600    75.820      76.150   \n",
       "2015-01-08          1.0      76.74    78.2300    76.080      78.175   \n",
       "\n",
       "            Adj. Volume  \n",
       "Date                     \n",
       "2015-01-02   18177475.0  \n",
       "2015-01-05   26452191.0  \n",
       "2015-01-06   27399288.0  \n",
       "2015-01-07   22045333.0  \n",
       "2015-01-08   23960953.0  "
      ]
     },
     "execution_count": 32,
     "metadata": {},
     "output_type": "execute_result"
    }
   ],
   "source": [
    "mydata.head()"
   ]
  },
  {
   "cell_type": "code",
   "execution_count": 33,
   "metadata": {
    "collapsed": true
   },
   "outputs": [],
   "source": [
    "mydata = quandl.get('WIKI/FB.1',start_date='2015-01-01',end_date='2017-01-01')"
   ]
  },
  {
   "cell_type": "code",
   "execution_count": 34,
   "metadata": {},
   "outputs": [
    {
     "data": {
      "text/html": [
       "<div>\n",
       "<table border=\"1\" class=\"dataframe\">\n",
       "  <thead>\n",
       "    <tr style=\"text-align: right;\">\n",
       "      <th></th>\n",
       "      <th>Open</th>\n",
       "    </tr>\n",
       "    <tr>\n",
       "      <th>Date</th>\n",
       "      <th></th>\n",
       "    </tr>\n",
       "  </thead>\n",
       "  <tbody>\n",
       "    <tr>\n",
       "      <th>2015-01-02</th>\n",
       "      <td>78.58</td>\n",
       "    </tr>\n",
       "    <tr>\n",
       "      <th>2015-01-05</th>\n",
       "      <td>77.98</td>\n",
       "    </tr>\n",
       "    <tr>\n",
       "      <th>2015-01-06</th>\n",
       "      <td>77.23</td>\n",
       "    </tr>\n",
       "    <tr>\n",
       "      <th>2015-01-07</th>\n",
       "      <td>76.76</td>\n",
       "    </tr>\n",
       "    <tr>\n",
       "      <th>2015-01-08</th>\n",
       "      <td>76.74</td>\n",
       "    </tr>\n",
       "  </tbody>\n",
       "</table>\n",
       "</div>"
      ],
      "text/plain": [
       "             Open\n",
       "Date             \n",
       "2015-01-02  78.58\n",
       "2015-01-05  77.98\n",
       "2015-01-06  77.23\n",
       "2015-01-07  76.76\n",
       "2015-01-08  76.74"
      ]
     },
     "execution_count": 34,
     "metadata": {},
     "output_type": "execute_result"
    }
   ],
   "source": [
    "mydata.head()"
   ]
  },
  {
   "cell_type": "code",
   "execution_count": 35,
   "metadata": {
    "collapsed": true
   },
   "outputs": [],
   "source": [
    "mydata = quandl.get('WIKI/FB.7',start_date='2015-01-01',end_date='2017-01-01')"
   ]
  },
  {
   "cell_type": "code",
   "execution_count": 36,
   "metadata": {},
   "outputs": [
    {
     "data": {
      "text/html": [
       "<div>\n",
       "<table border=\"1\" class=\"dataframe\">\n",
       "  <thead>\n",
       "    <tr style=\"text-align: right;\">\n",
       "      <th></th>\n",
       "      <th>Split Ratio</th>\n",
       "    </tr>\n",
       "    <tr>\n",
       "      <th>Date</th>\n",
       "      <th></th>\n",
       "    </tr>\n",
       "  </thead>\n",
       "  <tbody>\n",
       "    <tr>\n",
       "      <th>2015-01-02</th>\n",
       "      <td>1.0</td>\n",
       "    </tr>\n",
       "    <tr>\n",
       "      <th>2015-01-05</th>\n",
       "      <td>1.0</td>\n",
       "    </tr>\n",
       "    <tr>\n",
       "      <th>2015-01-06</th>\n",
       "      <td>1.0</td>\n",
       "    </tr>\n",
       "    <tr>\n",
       "      <th>2015-01-07</th>\n",
       "      <td>1.0</td>\n",
       "    </tr>\n",
       "    <tr>\n",
       "      <th>2015-01-08</th>\n",
       "      <td>1.0</td>\n",
       "    </tr>\n",
       "  </tbody>\n",
       "</table>\n",
       "</div>"
      ],
      "text/plain": [
       "            Split Ratio\n",
       "Date                   \n",
       "2015-01-02          1.0\n",
       "2015-01-05          1.0\n",
       "2015-01-06          1.0\n",
       "2015-01-07          1.0\n",
       "2015-01-08          1.0"
      ]
     },
     "execution_count": 36,
     "metadata": {},
     "output_type": "execute_result"
    }
   ],
   "source": [
    "mydata.head()"
   ]
  },
  {
   "cell_type": "code",
   "execution_count": 37,
   "metadata": {
    "collapsed": true
   },
   "outputs": [],
   "source": [
    "houses = quandl.get('ZILLOW/M11_ZRIAH')"
   ]
  },
  {
   "cell_type": "code",
   "execution_count": 38,
   "metadata": {},
   "outputs": [
    {
     "data": {
      "text/html": [
       "<div>\n",
       "<table border=\"1\" class=\"dataframe\">\n",
       "  <thead>\n",
       "    <tr style=\"text-align: right;\">\n",
       "      <th></th>\n",
       "      <th>Value</th>\n",
       "    </tr>\n",
       "    <tr>\n",
       "      <th>Date</th>\n",
       "      <th></th>\n",
       "    </tr>\n",
       "  </thead>\n",
       "  <tbody>\n",
       "    <tr>\n",
       "      <th>2010-11-30</th>\n",
       "      <td>2241.0</td>\n",
       "    </tr>\n",
       "    <tr>\n",
       "      <th>2010-12-31</th>\n",
       "      <td>2254.0</td>\n",
       "    </tr>\n",
       "    <tr>\n",
       "      <th>2011-01-31</th>\n",
       "      <td>2276.0</td>\n",
       "    </tr>\n",
       "    <tr>\n",
       "      <th>2011-02-28</th>\n",
       "      <td>2305.0</td>\n",
       "    </tr>\n",
       "    <tr>\n",
       "      <th>2011-03-31</th>\n",
       "      <td>2334.0</td>\n",
       "    </tr>\n",
       "  </tbody>\n",
       "</table>\n",
       "</div>"
      ],
      "text/plain": [
       "             Value\n",
       "Date              \n",
       "2010-11-30  2241.0\n",
       "2010-12-31  2254.0\n",
       "2011-01-31  2276.0\n",
       "2011-02-28  2305.0\n",
       "2011-03-31  2334.0"
      ]
     },
     "execution_count": 38,
     "metadata": {},
     "output_type": "execute_result"
    }
   ],
   "source": [
    "houses.head()"
   ]
  },
  {
   "cell_type": "code",
   "execution_count": 39,
   "metadata": {},
   "outputs": [
    {
     "data": {
      "text/plain": [
       "<matplotlib.axes._subplots.AxesSubplot at 0x1151ba748>"
      ]
     },
     "execution_count": 39,
     "metadata": {},
     "output_type": "execute_result"
    },
    {
     "data": {
      "image/png": "[encoded data removed]",
      "text/plain": [
       "<matplotlib.figure.Figure at 0x114a07128>"
      ]
     },
     "metadata": {},
     "output_type": "display_data"
    }
   ],
   "source": [
    "houses.plot()"
   ]
  },
  {
   "cell_type": "code",
   "execution_count": null,
   "metadata": {
    "collapsed": true
   },
   "outputs": [],
   "source": []
  }
 ],
 "metadata": {
  "kernelspec": {
   "display_name": "Python 3",
   "language": "python",
   "name": "python3"
  },
  "language_info": {
   "codemirror_mode": {
    "name": "ipython",
    "version": 3
   },
   "file_extension": ".py",
   "mimetype": "text/x-python",
   "name": "python",
   "nbconvert_exporter": "python",
   "pygments_lexer": "ipython3",
   "version": "3.6.1"
  }
 },
 "nbformat": 4,
 "nbformat_minor": 2
}
